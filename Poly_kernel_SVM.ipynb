{
  "nbformat": 4,
  "nbformat_minor": 0,
  "metadata": {
    "colab": {
      "name": "Poly_kernel_SVM.ipynb",
      "provenance": [],
      "collapsed_sections": []
    },
    "kernelspec": {
      "name": "python3",
      "display_name": "Python 3"
    },
    "language_info": {
      "name": "python"
    }
  },
  "cells": [
    {
      "cell_type": "code",
      "metadata": {
        "id": "2q3mx1Z5026U"
      },
      "source": [
        "# Import modules\n",
        "import numpy as np\n",
        "import pandas as pd\n",
        "from sklearn.pipeline import Pipeline\n",
        "from sklearn.base import clone\n",
        "from sklearn.preprocessing import StandardScaler\n",
        "# numpy, matplotlib, seaborn\n",
        "import matplotlib.pyplot as plt\n",
        "import seaborn as sns\n",
        "sns.set_style('whitegrid')\n",
        "%matplotlib inline\n",
        "# machine learning\n",
        "from sklearn.model_selection import train_test_split\n",
        "from sklearn.preprocessing import StandardScaler\n",
        "from sklearn.svm import LinearSVC\n",
        "from sklearn.multiclass import OneVsRestClassifier\n",
        "from sklearn.model_selection import GridSearchCV\n",
        "from sklearn import svm\n",
        "from sklearn.metrics import classification_report, confusion_matrix\n",
        "from sklearn.preprocessing import OneHotEncoder\n",
        "from sklearn.compose import ColumnTransformer"
      ],
      "execution_count": 2,
      "outputs": []
    },
    {
      "cell_type": "code",
      "metadata": {
        "id": "ikvn9Ppf08M7"
      },
      "source": [
        "# Download data\n",
        "!wget -O training_data.csv http://handsonml.control.lth.se/data/training_data.csv\n",
        "!wget -O songs_to_classify.csv http://handsonml.control.lth.se/data/songs_to_classify.csv"
      ],
      "execution_count": null,
      "outputs": []
    },
    {
      "cell_type": "code",
      "metadata": {
        "id": "9VkSpRad0-q7"
      },
      "source": [
        "# Load data\n",
        "train = pd.read_csv(\"training_data.csv\")\n",
        "test_classify = pd.read_csv(\"songs_to_classify.csv\")"
      ],
      "execution_count": 4,
      "outputs": []
    },
    {
      "cell_type": "code",
      "metadata": {
        "id": "Pxtz4_Jg1Lzs"
      },
      "source": [
        "df = pd.read_csv('training_data.csv')\n",
        "# select which features to use\n",
        "#features = ['danceability','key','loudness','instrumentalness','liveness']\n",
        "features = ['danceability','acousticness', 'instrumentalness', 'energy', 'valence',\n",
        "            'loudness', 'liveness', 'speechiness', 'tempo']\n",
        "X = df.loc[:,features].values\n",
        "y = df.loc[:,'label'].values\n",
        "\n",
        "\n",
        "# Split into dataset into training and test set:\n",
        "X_train, X_test, y_train, y_test = train_test_split(X, y, test_size=0.2, random_state=42)\n",
        "\n"
      ],
      "execution_count": 5,
      "outputs": []
    },
    {
      "cell_type": "code",
      "metadata": {
        "id": "pAP0LfTBB57M"
      },
      "source": [
        "# Preprocess the dataset and divide into train and test\n",
        "sc = StandardScaler()\n",
        "X_trainn = sc.fit_transform(X_train)\n",
        "X_testn = sc.transform(X_test)"
      ],
      "execution_count": 6,
      "outputs": []
    },
    {
      "cell_type": "code",
      "metadata": {
        "id": "vzYsl2C71B41",
        "colab": {
          "base_uri": "https://localhost:8080/"
        },
        "outputId": "b1066f44-c7c3-463d-f78b-ada1e31253a0"
      },
      "source": [
        "model_poly = OneVsRestClassifier((svm.SVC(kernel='poly', degree = 3, gamma=1, C=0.01, probability=True)))\n",
        "model_poly.fit(X_trainn, np.ravel(y_train))"
      ],
      "execution_count": 21,
      "outputs": [
        {
          "output_type": "execute_result",
          "data": {
            "text/plain": [
              "OneVsRestClassifier(estimator=SVC(C=0.01, break_ties=False, cache_size=200,\n",
              "                                  class_weight=None, coef0=0.0,\n",
              "                                  decision_function_shape='ovr', degree=3,\n",
              "                                  gamma=1, kernel='poly', max_iter=-1,\n",
              "                                  probability=True, random_state=None,\n",
              "                                  shrinking=True, tol=0.001, verbose=False),\n",
              "                    n_jobs=None)"
            ]
          },
          "metadata": {},
          "execution_count": 21
        }
      ]
    },
    {
      "cell_type": "code",
      "metadata": {
        "id": "04_Z0x7x1xTs"
      },
      "source": [
        "# Calculate accuracy: Evaluate the models using cross-validation\n",
        "# Make Predictions on Test Data and compare with truth\n",
        "from sklearn.model_selection import cross_val_score\n",
        "scores = cross_val_score(model_poly, X, np.ravel(y), cv=5)\n",
        "print(\"%0.2f accuracy with a standard deviation of %0.2f\" % (scores.mean()*100, scores.std()))\n",
        "score = model_poly.score(X_testn, np.ravel(y_test))\n",
        "print('Test score (Validation): ', '{0:.4f}'.format(score*100))"
      ],
      "execution_count": null,
      "outputs": []
    },
    {
      "cell_type": "code",
      "metadata": {
        "colab": {
          "base_uri": "https://localhost:8080/"
        },
        "id": "LlvDTUFeNAbO",
        "outputId": "cafdf13e-92be-43a5-dbec-6521ee8e96b1"
      },
      "source": [
        "score = model_poly.score(X_testn, np.ravel(y_test))\n",
        "print('Test score (Validation): ', '{0:.4f}'.format(score*100))"
      ],
      "execution_count": 22,
      "outputs": [
        {
          "output_type": "stream",
          "name": "stdout",
          "text": [
            "Test score (Validation):  86.0000\n"
          ]
        }
      ]
    },
    {
      "cell_type": "code",
      "metadata": {
        "id": "IaehUWYTA6iW"
      },
      "source": [
        "preds_p = model_poly.predict(X_testn)"
      ],
      "execution_count": 23,
      "outputs": []
    },
    {
      "cell_type": "code",
      "metadata": {
        "id": "6n9Vrd2gBORw",
        "colab": {
          "base_uri": "https://localhost:8080/",
          "height": 591
        },
        "outputId": "554677bc-503c-405a-96f2-0f4662dcd48b"
      },
      "source": [
        "import seaborn as sns\n",
        "from sklearn import metrics\n",
        "cm = metrics.confusion_matrix(y_test, preds_p)\n",
        "plt.figure(figsize=(10,10))\n",
        "sns.heatmap(cm, annot=True, fmt=\".0f\", linewidths=1, square = True);\n",
        "plt.ylabel('Actual label');\n",
        "plt.xlabel('Predicted label');\n",
        "plt.title('Accuracy Score: {0}'.format(model_poly.score(X_testn, np.ravel(y_test)), size = 15))\n"
      ],
      "execution_count": 24,
      "outputs": [
        {
          "output_type": "execute_result",
          "data": {
            "text/plain": [
              "Text(0.5, 1.0, 'Accuracy Score: 0.86')"
            ]
          },
          "metadata": {},
          "execution_count": 24
        },
        {
          "output_type": "display_data",
          "data": {
            "image/png": "[encoded data removed]",
            "text/plain": [
              "<Figure size 720x720 with 2 Axes>"
            ]
          },
          "metadata": {
            "needs_background": "light"
          }
        }
      ]
    },
    {
      "cell_type": "code",
      "metadata": {
        "colab": {
          "base_uri": "https://localhost:8080/",
          "height": 296
        },
        "id": "SZcgzj3YClq7",
        "outputId": "d9571924-d998-4af4-fa11-b0de49aff969"
      },
      "source": [
        "from sklearn import metrics\n",
        "metrics.plot_roc_curve(model_poly, X_testn, y_test)"
      ],
      "execution_count": 23,
      "outputs": [
        {
          "output_type": "execute_result",
          "data": {
            "text/plain": [
              "<sklearn.metrics._plot.roc_curve.RocCurveDisplay at 0x7f4c173e6790>"
            ]
          },
          "metadata": {},
          "execution_count": 23
        },
        {
          "output_type": "display_data",
          "data": {
            "image/png": "[encoded data removed]",
            "text/plain": [
              "<Figure size 432x288 with 1 Axes>"
            ]
          },
          "metadata": {
            "needs_background": "light"
          }
        }
      ]
    },
    {
      "cell_type": "code",
      "metadata": {
        "id": "IFI9RptMLa8n"
      },
      "source": [
        "test = test_classify.loc[:,features].values\n",
        "testn = sc.transform(test)"
      ],
      "execution_count": 24,
      "outputs": []
    },
    {
      "cell_type": "code",
      "metadata": {
        "id": "ulDN2pYBL8hO"
      },
      "source": [
        "final_y = model_poly.predict(testn)"
      ],
      "execution_count": 26,
      "outputs": []
    },
    {
      "cell_type": "code",
      "metadata": {
        "colab": {
          "base_uri": "https://localhost:8080/",
          "height": 53
        },
        "id": "gyEflwlqL8dl",
        "outputId": "09acf230-85f1-47d5-fb5d-82bf700a5db5"
      },
      "source": [
        "final =''.join(str(final_y).split(' ,')).replace(\" \", \"\").replace('\\n', \"\")\n",
        "final"
      ],
      "execution_count": 27,
      "outputs": [
        {
          "output_type": "execute_result",
          "data": {
            "application/vnd.google.colaboratory.intrinsic+json": {
              "type": "string"
            },
            "text/plain": [
              "'[01010111001101111111001110101011011111010101110110011101100011101111101111110110111111101010011011111111010111110011111001111110101111111111101011011011001111101100111111111001111010111110100111111111]'"
            ]
          },
          "metadata": {},
          "execution_count": 27
        }
      ]
    }
  ]
}