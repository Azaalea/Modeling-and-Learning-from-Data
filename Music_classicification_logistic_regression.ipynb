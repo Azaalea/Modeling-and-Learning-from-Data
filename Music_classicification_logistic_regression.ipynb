{
  "nbformat": 4,
  "nbformat_minor": 0,
  "metadata": {
    "colab": {
      "name": "Music_classicification_logistic_regression.ipynb",
      "provenance": [],
      "collapsed_sections": []
    },
    "kernelspec": {
      "name": "python3",
      "display_name": "Python 3"
    },
    "language_info": {
      "name": "python"
    }
  },
  "cells": [
    {
      "cell_type": "code",
      "metadata": {
        "id": "MUbaT_0VVjII"
      },
      "source": [
        "import pandas as pd\n",
        "import numpy as np\n",
        "\n",
        "import matplotlib.pyplot as plt\n",
        "import seaborn as sns\n",
        "\n",
        "from sklearn import model_selection\n",
        "from sklearn.linear_model import LinearRegression\n",
        "from sklearn.linear_model import LogisticRegression\n",
        "from sklearn.linear_model import Ridge\n",
        "from sklearn.linear_model import Lasso\n",
        "from sklearn.linear_model import ElasticNet\n",
        "from sklearn.svm import SVR\n",
        "from sklearn.ensemble import RandomForestRegressor\n",
        "from sklearn.metrics import r2_score\n",
        "from sklearn.model_selection import train_test_split\n",
        "from sklearn.metrics import mean_squared_error\n",
        "from math import sqrt\n",
        "from sklearn.model_selection import cross_val_score\n",
        "from sklearn.decomposition import PCA\n",
        "from sklearn.compose import make_column_selector as selector\n",
        "from sklearn.preprocessing import OneHotEncoder\n",
        "from sklearn.compose import ColumnTransformer\n",
        "from sklearn.pipeline import make_pipeline\n",
        "from sklearn.model_selection import cross_val_score\n",
        "from sklearn.metrics import accuracy_score, confusion_matrix"
      ],
      "execution_count": 7,
      "outputs": []
    },
    {
      "cell_type": "code",
      "metadata": {
        "id": "dqiKHgJkVsLq",
        "colab": {
          "base_uri": "https://localhost:8080/"
        },
        "outputId": "12021f53-89d6-4bd4-e963-c3313f58e205"
      },
      "source": [
        "# Download data\n",
        "!wget -O training_data.csv http://handsonml.control.lth.se/data/training_data.csv\n",
        "!wget -O songs_to_classify.csv http://handsonml.control.lth.se/data/songs_to_classify.csv"
      ],
      "execution_count": 8,
      "outputs": [
        {
          "output_type": "stream",
          "name": "stdout",
          "text": [
            "--2021-10-01 13:58:26--  http://handsonml.control.lth.se/data/training_data.csv\n",
            "Resolving handsonml.control.lth.se (handsonml.control.lth.se)... 130.235.83.49, 2001:470:28:988:1911:2012:4200:0\n",
            "Connecting to handsonml.control.lth.se (handsonml.control.lth.se)|130.235.83.49|:80... connected.\n",
            "HTTP request sent, awaiting response... 200 OK\n",
            "Length: 54950 (54K) [text/csv]\n",
            "Saving to: ‘training_data.csv’\n",
            "\n",
            "training_data.csv   100%[===================>]  53.66K   269KB/s    in 0.2s    \n",
            "\n",
            "2021-10-01 13:58:27 (269 KB/s) - ‘training_data.csv’ saved [54950/54950]\n",
            "\n",
            "--2021-10-01 13:58:27--  http://handsonml.control.lth.se/data/songs_to_classify.csv\n",
            "Resolving handsonml.control.lth.se (handsonml.control.lth.se)... 130.235.83.49, 2001:470:28:988:1911:2012:4200:0\n",
            "Connecting to handsonml.control.lth.se (handsonml.control.lth.se)|130.235.83.49|:80... connected.\n",
            "HTTP request sent, awaiting response... 200 OK\n",
            "Length: 14306 (14K) [text/csv]\n",
            "Saving to: ‘songs_to_classify.csv’\n",
            "\n",
            "songs_to_classify.c 100%[===================>]  13.97K  --.-KB/s    in 0.1s    \n",
            "\n",
            "2021-10-01 13:58:27 (141 KB/s) - ‘songs_to_classify.csv’ saved [14306/14306]\n",
            "\n"
          ]
        }
      ]
    },
    {
      "cell_type": "code",
      "metadata": {
        "id": "3T89A7EOVucO"
      },
      "source": [
        "# Load data\n",
        "train = pd.read_csv(\"training_data.csv\")\n",
        "test_classify = pd.read_csv(\"songs_to_classify.csv\")"
      ],
      "execution_count": 9,
      "outputs": []
    },
    {
      "cell_type": "code",
      "metadata": {
        "id": "qPeuJ1S4yb5o"
      },
      "source": [
        "df = pd.read_csv('training_data.csv')\n",
        "X = df.drop(columns=['label'])\n",
        "y = df.loc[:,'label'].values\n",
        "\n",
        "features = ['danceability','acousticness', 'instrumentalness', 'energy', 'valence',\n",
        "            'loudness', 'liveness', 'speechiness', 'tempo', 'duration']\n",
        "features_cat = ['time_signature', 'key', 'mode']\n",
        "\n",
        "# Scaling the dataset to ensure more accurate results\n",
        "from sklearn.preprocessing import StandardScaler\n",
        "numerical_preprocessor = StandardScaler()\n",
        "categorical_preprocessor = OneHotEncoder(sparse = False, handle_unknown=\"ignore\")\n",
        "preprocessor = ColumnTransformer([\n",
        "    ('one-hot-encoder', categorical_preprocessor, features_cat),\n",
        "    ('standard-scaler', numerical_preprocessor, features)])\n"
      ],
      "execution_count": 10,
      "outputs": []
    },
    {
      "cell_type": "code",
      "metadata": {
        "id": "_-Tx9wwW0S5Z"
      },
      "source": [
        "model = make_pipeline(preprocessor, LogisticRegression(max_iter=1000,C=0.1,tol=0.01))"
      ],
      "execution_count": 11,
      "outputs": []
    },
    {
      "cell_type": "code",
      "metadata": {
        "id": "fT_b3Zb3V2Ph"
      },
      "source": [
        "# Split into dataset into training and test set:\n",
        "X_train, X_test, y_train, y_test = train_test_split(X, y, test_size=0.2, random_state=42)"
      ],
      "execution_count": 12,
      "outputs": []
    },
    {
      "cell_type": "code",
      "metadata": {
        "id": "Ly0bMIhK0R4M",
        "colab": {
          "base_uri": "https://localhost:8080/"
        },
        "outputId": "a1ee63a1-0bcd-4094-bc0f-96183cf4a632"
      },
      "source": [
        "model.fit(X_train, np.ravel(y_train))"
      ],
      "execution_count": 13,
      "outputs": [
        {
          "output_type": "execute_result",
          "data": {
            "text/plain": [
              "Pipeline(memory=None,\n",
              "         steps=[('columntransformer',\n",
              "                 ColumnTransformer(n_jobs=None, remainder='drop',\n",
              "                                   sparse_threshold=0.3,\n",
              "                                   transformer_weights=None,\n",
              "                                   transformers=[('one-hot-encoder',\n",
              "                                                  OneHotEncoder(categories='auto',\n",
              "                                                                drop=None,\n",
              "                                                                dtype=<class 'numpy.float64'>,\n",
              "                                                                handle_unknown='ignore',\n",
              "                                                                sparse=False),\n",
              "                                                  ['time_signature', 'key',\n",
              "                                                   'mode']),\n",
              "                                                 ('standard-scaler',\n",
              "                                                  StandardScaler...\n",
              "                                                   'valence', 'loudness',\n",
              "                                                   'liveness', 'speechiness',\n",
              "                                                   'tempo', 'duration'])],\n",
              "                                   verbose=False)),\n",
              "                ('logisticregression',\n",
              "                 LogisticRegression(C=0.1, class_weight=None, dual=False,\n",
              "                                    fit_intercept=True, intercept_scaling=1,\n",
              "                                    l1_ratio=None, max_iter=1000,\n",
              "                                    multi_class='auto', n_jobs=None,\n",
              "                                    penalty='l2', random_state=None,\n",
              "                                    solver='lbfgs', tol=0.01, verbose=0,\n",
              "                                    warm_start=False))],\n",
              "         verbose=False)"
            ]
          },
          "metadata": {},
          "execution_count": 13
        }
      ]
    },
    {
      "cell_type": "code",
      "metadata": {
        "colab": {
          "base_uri": "https://localhost:8080/"
        },
        "id": "gvtFNZh01KPe",
        "outputId": "1f2df0dd-ddf7-4517-c1e7-a1b951dec338"
      },
      "source": [
        "# Calculate accuracy: Evaluate the models using cross-validation\n",
        "# Make Predictions on Test Data and compare with truth\n",
        "scores = cross_val_score(model, X, np.ravel(y), cv=25)\n",
        "print(\"%0.2f accuracy with a standard deviation of %0.2f\" % (scores.mean()*100, scores.std()))\n",
        "score = model.score(X_test, np.ravel(y_test))\n",
        "print('Test score: ', '{0:.4f}'.format(score*100))"
      ],
      "execution_count": 14,
      "outputs": [
        {
          "output_type": "stream",
          "name": "stdout",
          "text": [
            "81.33 accuracy with a standard deviation of 0.07\n",
            "Test score:  80.6667\n"
          ]
        }
      ]
    },
    {
      "cell_type": "code",
      "metadata": {
        "id": "jRxLJKm-KcPZ"
      },
      "source": [
        "# # Make Predictions on Test Data and compare with truth\n",
        "pred = model.predict(X_test)"
      ],
      "execution_count": 15,
      "outputs": []
    },
    {
      "cell_type": "code",
      "metadata": {
        "colab": {
          "base_uri": "https://localhost:8080/"
        },
        "id": "YRM-AS8t1e0C",
        "outputId": "152f8d6c-8a8a-4b9e-cc6a-66e396835d10"
      },
      "source": [
        "# Make Predictions on Test Data and compare with truth\n",
        "from sklearn.metrics import accuracy_score, confusion_matrix\n",
        "print(confusion_matrix(y_test, pred))"
      ],
      "execution_count": 16,
      "outputs": [
        {
          "output_type": "stream",
          "name": "stdout",
          "text": [
            "[[42 12]\n",
            " [17 79]]\n"
          ]
        }
      ]
    },
    {
      "cell_type": "code",
      "metadata": {
        "colab": {
          "base_uri": "https://localhost:8080/",
          "height": 574
        },
        "id": "-YpuODir2fUd",
        "outputId": "a7e19940-e774-4620-9167-364dec2e44b5"
      },
      "source": [
        "import seaborn as sns\n",
        "from sklearn import metrics\n",
        "cm = metrics.confusion_matrix(y_test, pred)\n",
        "plt.figure(figsize=(10,10))\n",
        "sns.heatmap(cm, annot=True, fmt=\".0f\", linewidths=1, square = True);\n",
        "plt.ylabel('Actual label');\n",
        "plt.xlabel('Predicted label');\n",
        "plt.title('Accuracy Score: {0}'.format(score), size = 15);"
      ],
      "execution_count": 17,
      "outputs": [
        {
          "output_type": "display_data",
          "data": {
            "image/png": "[encoded data removed]",
            "text/plain": [
              "<Figure size 720x720 with 2 Axes>"
            ]
          },
          "metadata": {
            "needs_background": "light"
          }
        }
      ]
    },
    {
      "cell_type": "code",
      "metadata": {
        "id": "2lgwMPPsJ_sI"
      },
      "source": [
        "final_y = model.predict(test_classify)"
      ],
      "execution_count": 18,
      "outputs": []
    },
    {
      "cell_type": "code",
      "metadata": {
        "colab": {
          "base_uri": "https://localhost:8080/",
          "height": 53
        },
        "id": "pVHizd673A27",
        "outputId": "708dd7cb-483a-48dd-f7ad-a63488762cbb"
      },
      "source": [
        "final =''.join(str(final_y).split(' ,')).replace(\" \", \"\").replace('\\n', \"\")\n",
        "final"
      ],
      "execution_count": 19,
      "outputs": [
        {
          "output_type": "execute_result",
          "data": {
            "application/vnd.google.colaboratory.intrinsic+json": {
              "type": "string"
            },
            "text/plain": [
              "'[01010011101101101011001100110010011111010101010110001101100011001111101011110110111101111010001011111010010111110111101101101110101011111101101011001011001111100101101110111000111001111110100111100111]'"
            ]
          },
          "metadata": {},
          "execution_count": 19
        }
      ]
    },
    {
      "cell_type": "markdown",
      "metadata": {
        "id": "xndqrt12d0ON"
      },
      "source": [
        "The ROC curve\n"
      ]
    },
    {
      "cell_type": "code",
      "metadata": {
        "colab": {
          "base_uri": "https://localhost:8080/",
          "height": 296
        },
        "id": "V3T_Dk8Fr1u6",
        "outputId": "4750f802-73eb-4ae6-d2e4-7ab00a15fe97"
      },
      "source": [
        "from sklearn import metrics\n",
        "metrics.plot_roc_curve(model, X_test, y_test)"
      ],
      "execution_count": 42,
      "outputs": [
        {
          "output_type": "execute_result",
          "data": {
            "text/plain": [
              "<sklearn.metrics._plot.roc_curve.RocCurveDisplay at 0x7f62ca9000d0>"
            ]
          },
          "metadata": {},
          "execution_count": 42
        },
        {
          "output_type": "display_data",
          "data": {
            "image/png": "[encoded data removed]",
            "text/plain": [
              "<Figure size 432x288 with 1 Axes>"
            ]
          },
          "metadata": {
            "needs_background": "light"
          }
        }
      ]
    },
    {
      "cell_type": "code",
      "metadata": {
        "colab": {
          "base_uri": "https://localhost:8080/"
        },
        "id": "qf_4-Q8uswpe",
        "outputId": "bca42f9d-4de2-4f67-dcd4-a35f0cc67a70"
      },
      "source": [
        "from sklearn.metrics import classification_report\n",
        "print(classification_report(y_test, model.predict(X_test)))"
      ],
      "execution_count": 43,
      "outputs": [
        {
          "output_type": "stream",
          "name": "stdout",
          "text": [
            "              precision    recall  f1-score   support\n",
            "\n",
            "           0       0.71      0.78      0.74        54\n",
            "           1       0.87      0.82      0.84        96\n",
            "\n",
            "    accuracy                           0.81       150\n",
            "   macro avg       0.79      0.80      0.79       150\n",
            "weighted avg       0.81      0.81      0.81       150\n",
            "\n"
          ]
        }
      ]
    },
    {
      "cell_type": "code",
      "metadata": {
        "id": "z4vcHe8CQiQR"
      },
      "source": [
        ""
      ],
      "execution_count": null,
      "outputs": []
    }
  ]
}