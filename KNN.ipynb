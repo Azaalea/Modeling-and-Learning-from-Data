{
  "nbformat": 4,
  "nbformat_minor": 0,
  "metadata": {
    "colab": {
      "name": "KNN_all_features.ipynb",
      "provenance": [],
      "collapsed_sections": []
    },
    "kernelspec": {
      "name": "python3",
      "display_name": "Python 3"
    },
    "language_info": {
      "name": "python"
    }
  },
  "cells": [
    {
      "cell_type": "code",
      "metadata": {
        "id": "lCFRfomWwlkL"
      },
      "source": [
        "# Import modules\n",
        "import numpy as np\n",
        "import pandas as pd\n",
        "import matplotlib.pyplot as plt\n",
        "import seaborn as sns\n",
        "sns.set_style('whitegrid')\n",
        "# machine learning\n",
        "from sklearn.model_selection import train_test_split\n",
        "from sklearn.ensemble import RandomForestClassifier\n",
        "from sklearn.neighbors import KNeighborsClassifier\n",
        "from sklearn.tree import DecisionTreeClassifier\n",
        "from sklearn.ensemble import BaggingClassifier, RandomForestClassifier\n",
        "from sklearn.model_selection import GridSearchCV\n",
        "from sklearn.model_selection import cross_val_score\n",
        "from sklearn.compose import make_column_selector as selector\n",
        "from sklearn.preprocessing import OneHotEncoder\n",
        "from sklearn.compose import ColumnTransformer\n",
        "from sklearn.pipeline import Pipeline"
      ],
      "execution_count": 23,
      "outputs": []
    },
    {
      "cell_type": "code",
      "metadata": {
        "id": "jt0hsNDew1tF",
        "colab": {
          "base_uri": "https://localhost:8080/"
        },
        "outputId": "d1d1ecd6-e160-4fec-a1e2-7918a884fb06"
      },
      "source": [
        "# Download data\n",
        "!wget -O training_data.csv http://handsonml.control.lth.se/data/training_data.csv\n",
        "!wget -O songs_to_classify.csv http://handsonml.control.lth.se/data/songs_to_classify.csv"
      ],
      "execution_count": 14,
      "outputs": [
        {
          "output_type": "stream",
          "name": "stdout",
          "text": [
            "--2021-10-01 15:02:20--  http://handsonml.control.lth.se/data/training_data.csv\n",
            "Resolving handsonml.control.lth.se (handsonml.control.lth.se)... 130.235.83.49, 2001:470:28:988:1911:2012:4200:0\n",
            "Connecting to handsonml.control.lth.se (handsonml.control.lth.se)|130.235.83.49|:80... connected.\n",
            "HTTP request sent, awaiting response... 200 OK\n",
            "Length: 54950 (54K) [text/csv]\n",
            "Saving to: ‘training_data.csv’\n",
            "\n",
            "training_data.csv   100%[===================>]  53.66K   268KB/s    in 0.2s    \n",
            "\n",
            "2021-10-01 15:02:21 (268 KB/s) - ‘training_data.csv’ saved [54950/54950]\n",
            "\n",
            "--2021-10-01 15:02:21--  http://handsonml.control.lth.se/data/songs_to_classify.csv\n",
            "Resolving handsonml.control.lth.se (handsonml.control.lth.se)... 130.235.83.49, 2001:470:28:988:1911:2012:4200:0\n",
            "Connecting to handsonml.control.lth.se (handsonml.control.lth.se)|130.235.83.49|:80... connected.\n",
            "HTTP request sent, awaiting response... 200 OK\n",
            "Length: 14306 (14K) [text/csv]\n",
            "Saving to: ‘songs_to_classify.csv’\n",
            "\n",
            "songs_to_classify.c 100%[===================>]  13.97K  --.-KB/s    in 0.1s    \n",
            "\n",
            "2021-10-01 15:02:21 (140 KB/s) - ‘songs_to_classify.csv’ saved [14306/14306]\n",
            "\n"
          ]
        }
      ]
    },
    {
      "cell_type": "code",
      "metadata": {
        "id": "4Kx0yPH3w4XU"
      },
      "source": [
        "# Load data\n",
        "train = pd.read_csv(\"training_data.csv\")\n",
        "test_classify = pd.read_csv(\"songs_to_classify.csv\")"
      ],
      "execution_count": 15,
      "outputs": []
    },
    {
      "cell_type": "code",
      "metadata": {
        "id": "Mp4JAkBOw7g4"
      },
      "source": [
        "df = pd.read_csv('training_data.csv')\n",
        "# select which features to use\n",
        "\n",
        "X = df.drop(columns=['label'])\n",
        "y = df.loc[:,'label'].values\n",
        "\n",
        "features = ['danceability','acousticness', 'instrumentalness', 'energy', 'valence',\n",
        "            'loudness', 'liveness', 'speechiness', 'tempo', 'duration']\n",
        "features_cat = ['time_signature', 'key', 'mode']\n",
        "\n",
        "# Scaling the dataset to ensure more accurate results\n",
        "from sklearn.preprocessing import StandardScaler\n",
        "numerical_preprocessor = StandardScaler()\n",
        "categorical_preprocessor = OneHotEncoder(handle_unknown=\"ignore\")\n",
        "preprocessor = ColumnTransformer([\n",
        "    ('one-hot-encoder', categorical_preprocessor, features_cat),\n",
        "    ('standard-scaler', numerical_preprocessor, features)])"
      ],
      "execution_count": 16,
      "outputs": []
    },
    {
      "cell_type": "code",
      "metadata": {
        "id": "csMZ_rMww-kw"
      },
      "source": [
        "clf = Pipeline(steps = [('preprocessor', preprocessor), ('classifier', KNeighborsClassifier(n_neighbors=3))])"
      ],
      "execution_count": 17,
      "outputs": []
    },
    {
      "cell_type": "code",
      "metadata": {
        "id": "6BW3NNuXxI-H"
      },
      "source": [
        "# Split into dataset into training and test set:\n",
        "X_train, X_test, y_train, y_test = train_test_split(X, y, test_size=0.2, random_state=42)"
      ],
      "execution_count": 18,
      "outputs": []
    },
    {
      "cell_type": "code",
      "metadata": {
        "id": "EeDtE18WxWG3",
        "colab": {
          "base_uri": "https://localhost:8080/"
        },
        "outputId": "0272dfc1-bac6-4a9b-f104-aee0a088b801"
      },
      "source": [
        "clf.fit(X_train,np.ravel(y_train))"
      ],
      "execution_count": 19,
      "outputs": [
        {
          "output_type": "execute_result",
          "data": {
            "text/plain": [
              "Pipeline(memory=None,\n",
              "         steps=[('preprocessor',\n",
              "                 ColumnTransformer(n_jobs=None, remainder='drop',\n",
              "                                   sparse_threshold=0.3,\n",
              "                                   transformer_weights=None,\n",
              "                                   transformers=[('one-hot-encoder',\n",
              "                                                  OneHotEncoder(categories='auto',\n",
              "                                                                drop=None,\n",
              "                                                                dtype=<class 'numpy.float64'>,\n",
              "                                                                handle_unknown='ignore',\n",
              "                                                                sparse=True),\n",
              "                                                  ['time_signature', 'key',\n",
              "                                                   'mode']),\n",
              "                                                 ('standard-scaler',\n",
              "                                                  StandardScaler(copy=True,\n",
              "                                                                 with_mean=True,\n",
              "                                                                 with_std=True),\n",
              "                                                  ['danceability',\n",
              "                                                   'acousticness',\n",
              "                                                   'instrumentalness', 'energy',\n",
              "                                                   'valence', 'loudness',\n",
              "                                                   'liveness', 'speechiness',\n",
              "                                                   'tempo', 'duration'])],\n",
              "                                   verbose=False)),\n",
              "                ('classifier',\n",
              "                 KNeighborsClassifier(algorithm='auto', leaf_size=30,\n",
              "                                      metric='minkowski', metric_params=None,\n",
              "                                      n_jobs=None, n_neighbors=3, p=2,\n",
              "                                      weights='uniform'))],\n",
              "         verbose=False)"
            ]
          },
          "metadata": {},
          "execution_count": 19
        }
      ]
    },
    {
      "cell_type": "code",
      "metadata": {
        "colab": {
          "base_uri": "https://localhost:8080/"
        },
        "id": "3xMiQcDwxZq-",
        "outputId": "90d15734-a8ae-4f04-feba-744bfe1b42b0"
      },
      "source": [
        "# Calculate accuracy: Evaluate the models using cross-validation\n",
        "# Make Predictions on Test Data and compare with truth\n",
        "scores = cross_val_score(clf, X, np.ravel(y), cv=25)\n",
        "print(\"%0.2f accuracy with a standard deviation of %0.2f\" % (scores.mean()*100, scores.std()))\n",
        "score = clf.score(X_test, np.ravel(y_test))\n",
        "print('Test score: ', '{0:.4f}'.format(score*100))"
      ],
      "execution_count": null,
      "outputs": [
        {
          "output_type": "stream",
          "name": "stdout",
          "text": [
            "81.07 accuracy with a standard deviation of 0.07\n",
            "Test score:  82.0000\n"
          ]
        }
      ]
    },
    {
      "cell_type": "code",
      "metadata": {
        "id": "Jxfjov8mxoko"
      },
      "source": [
        "# # Make Predictions on Test Data and compare with truth\n",
        "pred = clf.predict(X_test)"
      ],
      "execution_count": null,
      "outputs": []
    },
    {
      "cell_type": "code",
      "metadata": {
        "colab": {
          "base_uri": "https://localhost:8080/"
        },
        "id": "ESlMAoCDxyrV",
        "outputId": "55ba994e-8c5a-42de-d41e-77d1594f1a4b"
      },
      "source": [
        "# Make Predictions on Test Data and compare with truth\n",
        "from sklearn.metrics import accuracy_score, confusion_matrix\n",
        "print(confusion_matrix(y_test, pred))"
      ],
      "execution_count": 20,
      "outputs": [
        {
          "output_type": "stream",
          "name": "stdout",
          "text": [
            "[[40 14]\n",
            " [13 83]]\n"
          ]
        }
      ]
    },
    {
      "cell_type": "code",
      "metadata": {
        "colab": {
          "base_uri": "https://localhost:8080/",
          "height": 575
        },
        "id": "livn34Vsx1Lo",
        "outputId": "5091ca1f-c596-42ee-8e7e-676f8d6de9c5"
      },
      "source": [
        "import seaborn as sns\n",
        "from sklearn import metrics\n",
        "cm = metrics.confusion_matrix(y_test, pred)\n",
        "plt.figure(figsize=(10,10))\n",
        "sns.heatmap(cm, annot=True, fmt=\".0f\", linewidths=1, square = True);\n",
        "plt.ylabel('Actual label');\n",
        "plt.xlabel('Predicted label');\n",
        "plt.title('Accuracy Score: {0}'.format(score), size = 15);"
      ],
      "execution_count": 21,
      "outputs": [
        {
          "output_type": "display_data",
          "data": {
            "image/png": "[encoded data removed]",
            "text/plain": [
              "<Figure size 720x720 with 2 Axes>"
            ]
          },
          "metadata": {}
        }
      ]
    },
    {
      "cell_type": "code",
      "metadata": {
        "colab": {
          "base_uri": "https://localhost:8080/",
          "height": 296
        },
        "id": "NZ-peqdPC947",
        "outputId": "526ede04-f094-460a-c8cd-d9db71163f1c"
      },
      "source": [
        "from sklearn import metrics\n",
        "metrics.plot_roc_curve(clf, X_test, y_test)"
      ],
      "execution_count": 22,
      "outputs": [
        {
          "output_type": "execute_result",
          "data": {
            "text/plain": [
              "<sklearn.metrics._plot.roc_curve.RocCurveDisplay at 0x7f2dfc69b6d0>"
            ]
          },
          "metadata": {},
          "execution_count": 22
        },
        {
          "output_type": "display_data",
          "data": {
            "image/png": "[encoded data removed]",
            "text/plain": [
              "<Figure size 432x288 with 1 Axes>"
            ]
          },
          "metadata": {}
        }
      ]
    },
    {
      "cell_type": "code",
      "metadata": {
        "colab": {
          "base_uri": "https://localhost:8080/"
        },
        "id": "BZBNCb_QYn4j",
        "outputId": "4bc181f1-8d2f-49fa-ff2b-f20fda772ca5"
      },
      "source": [
        "from sklearn.metrics import classification_report\n",
        "print(classification_report(y_test, clf.predict(X_test)))"
      ],
      "execution_count": 25,
      "outputs": [
        {
          "output_type": "stream",
          "name": "stdout",
          "text": [
            "              precision    recall  f1-score   support\n",
            "\n",
            "           0       0.75      0.74      0.75        54\n",
            "           1       0.86      0.86      0.86        96\n",
            "\n",
            "    accuracy                           0.82       150\n",
            "   macro avg       0.81      0.80      0.80       150\n",
            "weighted avg       0.82      0.82      0.82       150\n",
            "\n"
          ]
        }
      ]
    },
    {
      "cell_type": "code",
      "metadata": {
        "id": "8mYgWH7ryHnW"
      },
      "source": [
        "final_y = clf.predict(test_classify)"
      ],
      "execution_count": null,
      "outputs": []
    },
    {
      "cell_type": "code",
      "metadata": {
        "colab": {
          "base_uri": "https://localhost:8080/",
          "height": 35
        },
        "id": "KB9m0SlmCLZC",
        "outputId": "c15d337d-79b5-4a32-d9f8-9d03197dfe64"
      },
      "source": [
        "final =''.join(str(final_y).split(' ,')).replace(\" \", \"\").replace('\\n', \"\")\n",
        "final"
      ],
      "execution_count": null,
      "outputs": [
        {
          "output_type": "execute_result",
          "data": {
            "application/vnd.google.colaboratory.intrinsic+json": {
              "type": "string"
            },
            "text/plain": [
              "'[10011001001111101011001100000011011111100101010110001101110011101111101011100110111001111010001011110111110111100111111011101110101011111111101011011011001111100100100110111100011011111110100011100111]'"
            ]
          },
          "metadata": {},
          "execution_count": 48
        }
      ]
    },
    {
      "cell_type": "code",
      "metadata": {
        "colab": {
          "base_uri": "https://localhost:8080/"
        },
        "id": "SRXlrJuXG5yh",
        "outputId": "d72670c0-0e1d-4b2e-b155-793579928b29"
      },
      "source": [
        "from sklearn.model_selection import GridSearchCV\n",
        "#create new a knn model\n",
        "knn2 = KNeighborsClassifier()\n",
        "#create a dictionary of all values we want to test for n_neighbors\n",
        "param_grid = {'n_neighbors': np.arange(1, 10)}\n",
        "#use gridsearch to test all values for n_neighbors\n",
        "knn_gscv = GridSearchCV(knn2, param_grid, cv=5)\n",
        "#fit model to data\n",
        "knn_gscv.fit(X_train, np.ravel(y_train))"
      ],
      "execution_count": null,
      "outputs": [
        {
          "output_type": "execute_result",
          "data": {
            "text/plain": [
              "GridSearchCV(cv=5, error_score=nan,\n",
              "             estimator=KNeighborsClassifier(algorithm='auto', leaf_size=30,\n",
              "                                            metric='minkowski',\n",
              "                                            metric_params=None, n_jobs=None,\n",
              "                                            n_neighbors=5, p=2,\n",
              "                                            weights='uniform'),\n",
              "             iid='deprecated', n_jobs=None,\n",
              "             param_grid={'n_neighbors': array([1, 2, 3, 4, 5, 6, 7, 8, 9])},\n",
              "             pre_dispatch='2*n_jobs', refit=True, return_train_score=False,\n",
              "             scoring=None, verbose=0)"
            ]
          },
          "metadata": {},
          "execution_count": 26
        }
      ]
    },
    {
      "cell_type": "code",
      "metadata": {
        "colab": {
          "base_uri": "https://localhost:8080/"
        },
        "id": "nAIjkgzHG-kB",
        "outputId": "558c14f9-7843-4a65-b848-12632d416a54"
      },
      "source": [
        "#check top performing n_neighbors value\n",
        "knn_gscv.best_params_"
      ],
      "execution_count": null,
      "outputs": [
        {
          "output_type": "execute_result",
          "data": {
            "text/plain": [
              "{'n_neighbors': 8}"
            ]
          },
          "metadata": {},
          "execution_count": 27
        }
      ]
    },
    {
      "cell_type": "code",
      "metadata": {
        "colab": {
          "base_uri": "https://localhost:8080/",
          "height": 295
        },
        "id": "But1_uOtHDPx",
        "outputId": "dbd56071-b9ca-46f1-cbe0-142d9cce38fa"
      },
      "source": [
        "# Setup arrays to store train and test accuracies\n",
        "neighbors = np.arange(1, 9)\n",
        "train_accuracy = np.empty(len(neighbors))\n",
        "test_accuracy = np.empty(len(neighbors))\n",
        "\n",
        "# Loop over different values of k\n",
        "for i, k in enumerate(neighbors):\n",
        "    # Setup a k-NN Classifier with k neighbors: knn\n",
        "    knn = KNeighborsClassifier(n_neighbors=k)\n",
        "\n",
        "    # Fit the classifier to the training data\n",
        "    knn.fit(X_train, np.ravel(y_train))\n",
        "    \n",
        "    #Compute accuracy on the training set\n",
        "    train_accuracy[i] = knn.score(X_train, np.ravel(y_train))\n",
        "\n",
        "    #Compute accuracy on the testing set\n",
        "    test_accuracy[i] = knn.score(X_test, np.ravel(y_test))\n",
        "\n",
        "# Generate plot\n",
        "plt.title('k-NN: Varying Number of Neighbors')\n",
        "plt.plot(neighbors, test_accuracy, label = 'Testing Accuracy')\n",
        "plt.plot(neighbors, train_accuracy, label = 'Training Accuracy')\n",
        "plt.legend()\n",
        "plt.xlabel('Number of Neighbors')\n",
        "plt.ylabel('Accuracy')\n",
        "plt.show()\n",
        "\n",
        "# It looks like the test accuracy is highest when using 3 neighbors. \n",
        "# Using 5 neighbors or more seems to result in a simple model that underfits the data."
      ],
      "execution_count": null,
      "outputs": [
        {
          "output_type": "display_data",
          "data": {
            "image/png": "[encoded data removed]",
            "text/plain": [
              "<Figure size 432x288 with 1 Axes>"
            ]
          },
          "metadata": {}
        }
      ]
    },
    {
      "cell_type": "code",
      "metadata": {
        "id": "B_larYp0Heo3"
      },
      "source": [
        ""
      ],
      "execution_count": null,
      "outputs": []
    }
  ]
}