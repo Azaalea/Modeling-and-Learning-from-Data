{
  "nbformat": 4,
  "nbformat_minor": 0,
  "metadata": {
    "colab": {
      "name": "Bagging_random_forest_all_features.ipynb",
      "provenance": [],
      "collapsed_sections": []
    },
    "kernelspec": {
      "name": "python3",
      "display_name": "Python 3"
    },
    "language_info": {
      "name": "python"
    }
  },
  "cells": [
    {
      "cell_type": "code",
      "metadata": {
        "id": "1aotGW6eFM5p"
      },
      "source": [
        "# Import modules\n",
        "import numpy as np\n",
        "import pandas as pd\n",
        "from sklearn.pipeline import Pipeline\n",
        "from sklearn.base import clone\n",
        "from sklearn.preprocessing import StandardScaler\n",
        "# numpy, matplotlib, seaborn\n",
        "import matplotlib.pyplot as plt\n",
        "import seaborn as sns\n",
        "sns.set_style('whitegrid')\n",
        "%matplotlib inline\n",
        "# machine learning\n",
        "from sklearn.model_selection import train_test_split\n",
        "from sklearn.ensemble import RandomForestClassifier\n",
        "from sklearn.neighbors import KNeighborsClassifier\n",
        "from sklearn.tree import DecisionTreeClassifier\n",
        "from sklearn.ensemble import BaggingClassifier, RandomForestClassifier\n",
        "from sklearn.model_selection import GridSearchCV\n",
        "from sklearn.model_selection import cross_val_score\n",
        "from sklearn.compose import make_column_selector as selector\n",
        "from sklearn.preprocessing import OneHotEncoder\n",
        "from sklearn.compose import ColumnTransformer\n",
        "from sklearn.pipeline import make_pipeline"
      ],
      "execution_count": 1,
      "outputs": []
    },
    {
      "cell_type": "code",
      "metadata": {
        "id": "qxGf2cUgFlrU",
        "colab": {
          "base_uri": "https://localhost:8080/"
        },
        "outputId": "21ec3131-b938-4eeb-bfe4-8ea53a4aba11"
      },
      "source": [
        "# Download data\n",
        "!wget -O training_data.csv http://handsonml.control.lth.se/data/training_data.csv\n",
        "!wget -O songs_to_classify.csv http://handsonml.control.lth.se/data/songs_to_classify.csv"
      ],
      "execution_count": 2,
      "outputs": [
        {
          "output_type": "stream",
          "name": "stdout",
          "text": [
            "--2021-10-01 14:56:45--  http://handsonml.control.lth.se/data/training_data.csv\n",
            "Resolving handsonml.control.lth.se (handsonml.control.lth.se)... 130.235.83.49, 2001:470:28:988:1911:2012:4200:0\n",
            "Connecting to handsonml.control.lth.se (handsonml.control.lth.se)|130.235.83.49|:80... connected.\n",
            "HTTP request sent, awaiting response... 200 OK\n",
            "Length: 54950 (54K) [text/csv]\n",
            "Saving to: ‘training_data.csv’\n",
            "\n",
            "training_data.csv   100%[===================>]  53.66K   200KB/s    in 0.3s    \n",
            "\n",
            "2021-10-01 14:56:46 (200 KB/s) - ‘training_data.csv’ saved [54950/54950]\n",
            "\n",
            "--2021-10-01 14:56:46--  http://handsonml.control.lth.se/data/songs_to_classify.csv\n",
            "Resolving handsonml.control.lth.se (handsonml.control.lth.se)... 130.235.83.49, 2001:470:28:988:1911:2012:4200:0\n",
            "Connecting to handsonml.control.lth.se (handsonml.control.lth.se)|130.235.83.49|:80... connected.\n",
            "HTTP request sent, awaiting response... 200 OK\n",
            "Length: 14306 (14K) [text/csv]\n",
            "Saving to: ‘songs_to_classify.csv’\n",
            "\n",
            "songs_to_classify.c 100%[===================>]  13.97K  --.-KB/s    in 0.1s    \n",
            "\n",
            "2021-10-01 14:56:46 (104 KB/s) - ‘songs_to_classify.csv’ saved [14306/14306]\n",
            "\n"
          ]
        }
      ]
    },
    {
      "cell_type": "code",
      "metadata": {
        "id": "LEpiZFCwFpZ_"
      },
      "source": [
        "# Load data\n",
        "train = pd.read_csv(\"training_data.csv\")\n",
        "test_classify = pd.read_csv(\"songs_to_classify.csv\")"
      ],
      "execution_count": 3,
      "outputs": []
    },
    {
      "cell_type": "code",
      "metadata": {
        "id": "rrVeUrSAV_fX"
      },
      "source": [
        "df = pd.read_csv('training_data.csv')\n",
        "# select which features to use\n",
        "\n",
        "X = df.drop(columns=['label'])\n",
        "y = df.loc[:,'label'].values\n",
        "\n",
        "features = ['danceability','acousticness', 'instrumentalness', 'valence',\n",
        "            'loudness', 'liveness', 'speechiness', 'tempo', 'duration']\n",
        "features_cat = ['key', 'mode', 'time_signature']\n",
        "\n",
        "# Scaling the dataset to ensure more accurate results\n",
        "from sklearn.preprocessing import StandardScaler\n",
        "numerical_preprocessor = StandardScaler()\n",
        "categorical_preprocessor = OneHotEncoder(handle_unknown=\"ignore\")\n",
        "preprocessor = ColumnTransformer([\n",
        "    ('one-hot-encoder', categorical_preprocessor, features_cat),\n",
        "    ('standard-scaler', numerical_preprocessor, features)])"
      ],
      "execution_count": 16,
      "outputs": []
    },
    {
      "cell_type": "markdown",
      "metadata": {
        "id": "jBlvDcgMYABi"
      },
      "source": [
        "Implementation for Random Forests"
      ]
    },
    {
      "cell_type": "code",
      "metadata": {
        "id": "Pd95ZpAPQ73f"
      },
      "source": [
        "clf = Pipeline(steps = [('preprocessor', preprocessor), ('classifier', RandomForestClassifier(n_estimators=100,max_depth=3))])"
      ],
      "execution_count": 17,
      "outputs": []
    },
    {
      "cell_type": "code",
      "metadata": {
        "id": "Avdt5S9bFmzC"
      },
      "source": [
        "# Split into dataset into training and test set:\n",
        "X_train, X_test, y_train, y_test = train_test_split(X, y, test_size=0.2, random_state=42)\n"
      ],
      "execution_count": 18,
      "outputs": []
    },
    {
      "cell_type": "code",
      "metadata": {
        "colab": {
          "base_uri": "https://localhost:8080/"
        },
        "id": "__J8LSM-Rtnd",
        "outputId": "457b1cc0-d02d-4450-fa8d-12b720a23b71"
      },
      "source": [
        "clf.fit(X_train,np.ravel(y_train))\n",
        "print(clf.score(X_train,np.ravel(y_train)))\n",
        "print('model score: %.3f' % clf.score(X_test,np.ravel(y_test)))"
      ],
      "execution_count": 19,
      "outputs": [
        {
          "output_type": "stream",
          "name": "stdout",
          "text": [
            "0.8766666666666667\n",
            "model score: 0.807\n"
          ]
        }
      ]
    },
    {
      "cell_type": "code",
      "metadata": {
        "colab": {
          "base_uri": "https://localhost:8080/"
        },
        "id": "yrFl_MMbNR-5",
        "outputId": "ad7054a7-0436-49bb-8a6e-cdcf271d8d5d"
      },
      "source": [
        "# Calculate accuracy: Evaluate the models using cross-validation\n",
        "# Make Predictions on Test Data and compare with truth\n",
        "scores = cross_val_score(clf, X, np.ravel(y), cv=25)\n",
        "print(\"%0.2f accuracy with a standard deviation of %0.2f\" % (scores.mean()*100, scores.std()))\n",
        "score = clf.score(X_test, np.ravel(y_test))\n",
        "print('Test score: ', '{0:.4f}'.format(score*100))"
      ],
      "execution_count": 20,
      "outputs": [
        {
          "output_type": "stream",
          "name": "stdout",
          "text": [
            "81.60 accuracy with a standard deviation of 0.07\n",
            "Test score:  80.6667\n"
          ]
        }
      ]
    },
    {
      "cell_type": "code",
      "metadata": {
        "colab": {
          "base_uri": "https://localhost:8080/"
        },
        "id": "eKdhREYxSZuv",
        "outputId": "936856a6-c4f7-4e9d-96a7-b95afaf2a0af"
      },
      "source": [
        "clf = RandomForestClassifier()\n",
        "\n",
        "param_grid = {\n",
        "    'n_estimators': [100, 1000],\n",
        "    'max_depth': [2, 3, 4],\n",
        "    'max_features': [0.1, 0.3],\n",
        "    'min_samples_leaf': [0.1, 0.3, 1, 2, 3]\n",
        "    }\n",
        "\n",
        "search = GridSearchCV(clf, param_grid, cv=4, verbose=1,n_jobs=-1)\n",
        "\n",
        "search.fit(X_train, np.ravel(y_train))\n",
        "score = search.score(X_test, np.ravel(y_test))\n",
        "print(\"Best CV score: {} using {}\".format(search.best_score_, search.best_params_))\n",
        "print(\"Test accuracy: {}\".format(score))"
      ],
      "execution_count": 21,
      "outputs": [
        {
          "output_type": "stream",
          "name": "stdout",
          "text": [
            "Fitting 4 folds for each of 60 candidates, totalling 240 fits\n"
          ]
        },
        {
          "output_type": "stream",
          "name": "stderr",
          "text": [
            "[Parallel(n_jobs=-1)]: Using backend LokyBackend with 2 concurrent workers.\n",
            "[Parallel(n_jobs=-1)]: Done  46 tasks      | elapsed:   32.7s\n",
            "[Parallel(n_jobs=-1)]: Done 196 tasks      | elapsed:  2.3min\n"
          ]
        },
        {
          "output_type": "stream",
          "name": "stdout",
          "text": [
            "Best CV score: 0.8283333333333334 using {'max_depth': 4, 'max_features': 0.3, 'min_samples_leaf': 2, 'n_estimators': 100}\n",
            "Test accuracy: 0.8266666666666667\n"
          ]
        },
        {
          "output_type": "stream",
          "name": "stderr",
          "text": [
            "[Parallel(n_jobs=-1)]: Done 240 out of 240 | elapsed:  2.9min finished\n"
          ]
        }
      ]
    },
    {
      "cell_type": "code",
      "metadata": {
        "id": "HYm8nkZiSkA1"
      },
      "source": [
        "from sklearn.model_selection import cross_val_score\n",
        "clfCV = RandomForestClassifier(n_estimators=1000,max_depth=3,min_samples_leaf = 2,max_features= 0.3)\n",
        "\n",
        "# To obtain the estimate of the performance including features, good!\n",
        "score=cross_val_score(clfCV, X, y, cv=20)"
      ],
      "execution_count": 22,
      "outputs": []
    },
    {
      "cell_type": "code",
      "metadata": {
        "colab": {
          "base_uri": "https://localhost:8080/"
        },
        "id": "iwZIYbbwTtf-",
        "outputId": "bc56100a-5e08-41ed-cf29-8f941222630a"
      },
      "source": [
        "clfCV.fit(X_train,np.ravel(y_train))\n",
        "print('Training score: ', clfCV.score(X_train,np.ravel(y_train)))\n",
        "print('Test score: ', clfCV.score(X_test,np.ravel(y_test)))"
      ],
      "execution_count": 23,
      "outputs": [
        {
          "output_type": "stream",
          "name": "stdout",
          "text": [
            "Training score:  0.88\n",
            "Test score:  0.8266666666666667\n"
          ]
        }
      ]
    },
    {
      "cell_type": "code",
      "metadata": {
        "id": "p_5wEy6oCY9Y"
      },
      "source": [
        "y_pred = clfCV.predict(X_test)"
      ],
      "execution_count": 24,
      "outputs": []
    },
    {
      "cell_type": "code",
      "metadata": {
        "colab": {
          "base_uri": "https://localhost:8080/"
        },
        "id": "4YOgWR2bChlp",
        "outputId": "c42cf2f7-afdf-4f6c-9969-18c61e71704a"
      },
      "source": [
        "score_test = clfCV.score(X_test, y_test)\n",
        "print('Test score: ', score_test )"
      ],
      "execution_count": 25,
      "outputs": [
        {
          "output_type": "stream",
          "name": "stdout",
          "text": [
            "Test score:  0.8266666666666667\n"
          ]
        }
      ]
    },
    {
      "cell_type": "code",
      "metadata": {
        "colab": {
          "base_uri": "https://localhost:8080/",
          "height": 574
        },
        "id": "1FbKcJx9CTuE",
        "outputId": "31b5a667-c19e-4964-d7c8-c30537d409cc"
      },
      "source": [
        "import seaborn as sns\n",
        "from sklearn import metrics\n",
        "cm = metrics.confusion_matrix(y_test, y_pred)\n",
        "plt.figure(figsize=(10,10))\n",
        "sns.heatmap(cm, annot=True, fmt=\".0f\", linewidths=1, square = True);\n",
        "plt.ylabel('Actual label');\n",
        "plt.xlabel('Predicted label');\n",
        "plt.title('Accuracy Score: {0}'.format(score.mean()), size = 15);"
      ],
      "execution_count": 26,
      "outputs": [
        {
          "output_type": "display_data",
          "data": {
            "image/png": "[encoded data removed]",
            "text/plain": [
              "<Figure size 720x720 with 2 Axes>"
            ]
          },
          "metadata": {
            "needs_background": "light"
          }
        }
      ]
    },
    {
      "cell_type": "code",
      "metadata": {
        "colab": {
          "base_uri": "https://localhost:8080/",
          "height": 296
        },
        "id": "Q65YV-5ACFBo",
        "outputId": "503490ab-556f-4c26-cb77-12c7b75d8183"
      },
      "source": [
        "from sklearn import metrics\n",
        "metrics.plot_roc_curve(clfCV, X_test, y_test)"
      ],
      "execution_count": 27,
      "outputs": [
        {
          "output_type": "execute_result",
          "data": {
            "text/plain": [
              "<sklearn.metrics._plot.roc_curve.RocCurveDisplay at 0x7f6291f84ed0>"
            ]
          },
          "metadata": {},
          "execution_count": 27
        },
        {
          "output_type": "display_data",
          "data": {
            "image/png": "[encoded data removed]",
            "text/plain": [
              "<Figure size 432x288 with 1 Axes>"
            ]
          },
          "metadata": {
            "needs_background": "light"
          }
        }
      ]
    },
    {
      "cell_type": "code",
      "metadata": {
        "colab": {
          "base_uri": "https://localhost:8080/"
        },
        "id": "XMx-KUo3Zr7Z",
        "outputId": "9881e69b-4abe-4d75-ed45-4273655edc41"
      },
      "source": [
        "from sklearn.metrics import classification_report\n",
        "print(classification_report(y_test, clfCV.predict(X_test)))"
      ],
      "execution_count": 28,
      "outputs": [
        {
          "output_type": "stream",
          "name": "stdout",
          "text": [
            "              precision    recall  f1-score   support\n",
            "\n",
            "           0       0.74      0.80      0.77        54\n",
            "           1       0.88      0.84      0.86        96\n",
            "\n",
            "    accuracy                           0.83       150\n",
            "   macro avg       0.81      0.82      0.81       150\n",
            "weighted avg       0.83      0.83      0.83       150\n",
            "\n"
          ]
        }
      ]
    },
    {
      "cell_type": "code",
      "metadata": {
        "colab": {
          "base_uri": "https://localhost:8080/",
          "height": 296
        },
        "id": "sfdnT9VLBDCK",
        "outputId": "fe6bf6b3-db82-46ba-bb47-38d1d1c9a913"
      },
      "source": [
        "clfCV.feature_importances_\n",
        "sorted_idx = clfCV.feature_importances_.argsort()\n",
        "plt.barh(train.columns[sorted_idx], clfCV.feature_importances_[sorted_idx])\n",
        "plt.xlabel(\"Random Forest Feature Importance\")"
      ],
      "execution_count": null,
      "outputs": [
        {
          "output_type": "execute_result",
          "data": {
            "text/plain": [
              "Text(0.5, 0, 'Random Forest Feature Importance')"
            ]
          },
          "metadata": {},
          "execution_count": 18
        },
        {
          "output_type": "display_data",
          "data": {
            "image/png": "[encoded data removed]",
            "text/plain": [
              "<Figure size 432x288 with 1 Axes>"
            ]
          },
          "metadata": {
            "needs_background": "light"
          }
        }
      ]
    },
    {
      "cell_type": "code",
      "metadata": {
        "id": "X4knlZtAVgEq",
        "colab": {
          "base_uri": "https://localhost:8080/",
          "height": 166
        },
        "outputId": "34fdaff7-dab6-466c-f32f-ea7b8748d08c"
      },
      "source": [
        "final_y = modelCV.predict(test_classify)"
      ],
      "execution_count": 15,
      "outputs": [
        {
          "output_type": "error",
          "ename": "NameError",
          "evalue": "ignored",
          "traceback": [
            "\u001b[0;31m---------------------------------------------------------------------------\u001b[0m",
            "\u001b[0;31mNameError\u001b[0m                                 Traceback (most recent call last)",
            "\u001b[0;32m<ipython-input-15-214a6327c354>\u001b[0m in \u001b[0;36m<module>\u001b[0;34m()\u001b[0m\n\u001b[0;32m----> 1\u001b[0;31m \u001b[0mfinal_y\u001b[0m \u001b[0;34m=\u001b[0m \u001b[0mmodelCV\u001b[0m\u001b[0;34m.\u001b[0m\u001b[0mpredict\u001b[0m\u001b[0;34m(\u001b[0m\u001b[0mtest_classify\u001b[0m\u001b[0;34m)\u001b[0m\u001b[0;34m\u001b[0m\u001b[0;34m\u001b[0m\u001b[0m\n\u001b[0m",
            "\u001b[0;31mNameError\u001b[0m: name 'modelCV' is not defined"
          ]
        }
      ]
    },
    {
      "cell_type": "code",
      "metadata": {
        "id": "J92FXELATM-i"
      },
      "source": [
        "final =''.join(str(final_y).split(' ,')).replace(\" \", \"\").replace('\\n', \"\")\n",
        "final"
      ],
      "execution_count": null,
      "outputs": []
    },
    {
      "cell_type": "markdown",
      "metadata": {
        "id": "fF-Go9HKZ6Dn"
      },
      "source": [
        "Normalization\n",
        "\n",
        "Normalizing input is something that can have a huge impact for some classification methods. For decision trees it will not make a difference, but for kNN it can affect the outcome by quite a bit. Let's try the exact same but with a rescaler in the pipeline."
      ]
    },
    {
      "cell_type": "markdown",
      "metadata": {
        "id": "LlHJ5IPGaUjB"
      },
      "source": [
        "**Ensambles**\n",
        "\n",
        "As discussed in the lecture bagging will help reduce variance, but not bias, and will show the greatest effect for unstable classifiers such as decision trees compared to more stable ones such as kNN. So if we pick classifiers with little to no bias, but high variance, and just train a bunch of them we can hopefully achieve both low variance and low bias.\n",
        "\n",
        "Using bagging on decision trees we get what is known as a random forest, a bunch of trees trained on different subsets of the data and features, and maybe with different parameter settings to increase variance among them.\n",
        "\n",
        "Bagging is a type of ensable algorithm where we create random subsets of the data and use them for training multiple different classifiers. Bootstrapping is the part of bagging where we resample uniformly with replacement, i.e. the same data can be sampled multiple times."
      ]
    },
    {
      "cell_type": "markdown",
      "metadata": {
        "id": "iKBfWllPbQqz"
      },
      "source": [
        "**Grid search**\n",
        "\n",
        "As you might have experienced above it is not always easy to find good parameters by hand, and as the problem gets more complex you will have even more parameters to tune. Instead it can be useful to automate this process and make the computer find the some good hyperparameters for you.\n",
        "\n",
        "Grid search will try all possible combinations of parameters you supply to it and see which one gives the best cross validation score. When fitting the data does not take long time it can be a very useful tool, but the time it takes will grow quickly with the number of parameters and the possible variations of the parameters. For more complex problems there faster methods to search for hyperparameters, but we won't go into them now."
      ]
    },
    {
      "cell_type": "markdown",
      "metadata": {
        "id": "DUIM4mNxOxag"
      },
      "source": [
        "**Optimazed Random Tree**"
      ]
    },
    {
      "cell_type": "code",
      "metadata": {
        "id": "Y7flYuK0YUMO"
      },
      "source": [
        "ind=np.array(list(range(0,11)))\n",
        "ind[clfCV.feature_importances_>0.050]"
      ],
      "execution_count": null,
      "outputs": []
    },
    {
      "cell_type": "markdown",
      "metadata": {
        "id": "MIBXmh7RGXDm"
      },
      "source": [
        "**The optimazed Random Tree**"
      ]
    },
    {
      "cell_type": "markdown",
      "metadata": {
        "id": "YGbace7L-XSh"
      },
      "source": [
        "Features Importance"
      ]
    },
    {
      "cell_type": "code",
      "metadata": {
        "id": "jrSstOd-723_"
      },
      "source": [
        "\n",
        "from sklearn.ensemble import RandomForestClassifier\n",
        "rf = RandomForestClassifier(n_estimators=1000)\n",
        "rf.fit(X_trainn,y_train)\n",
        "for feature, importance in zip(train.columns.values,rf.feature_importances_):\n",
        "  print(feature,'{:5.4f}'.format(importance))"
      ],
      "execution_count": null,
      "outputs": []
    }
  ]
}